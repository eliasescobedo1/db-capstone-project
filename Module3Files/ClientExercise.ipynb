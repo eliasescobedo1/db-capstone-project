{
 "cells": [
  {
   "cell_type": "code",
   "execution_count": 40,
   "id": "bdb5a794-999b-458b-bdf6-1d5ae6d114f6",
   "metadata": {},
   "outputs": [],
   "source": [
    "import mysql.connector as connector\n",
    "connection = connector.connect(user=\"root\", password=\"\", db=\"littlelemondb\")\n",
    "cursor = connection.cursor()"
   ]
  },
  {
   "cell_type": "code",
   "execution_count": 41,
   "id": "f5cb26b1-e273-4619-81ce-6e158c6a6e5a",
   "metadata": {},
   "outputs": [
    {
     "name": "stdout",
     "output_type": "stream",
     "text": [
      "('bookings',)\n",
      "('customer',)\n",
      "('menu',)\n",
      "('orderdeliverystatus',)\n",
      "('orders',)\n",
      "('ordersview',)\n",
      "('staff',)\n"
     ]
    }
   ],
   "source": [
    "#Showing tables in database\n",
    "cursor.execute(\"show tables\")\n",
    "for table in cursor:\n",
    "    print(table)"
   ]
  },
  {
   "cell_type": "code",
   "execution_count": 53,
   "id": "24dd0bd0-c2a5-456f-9770-f904a36d6faf",
   "metadata": {},
   "outputs": [
    {
     "name": "stdout",
     "output_type": "stream",
     "text": [
      "('Joakim Iversen', '111-444-2223')\n",
      "('Diana Pinto', '111-444-2227')\n"
     ]
    }
   ],
   "source": [
    "#Used greater than 25 on my WHERE clause. The data I had in my table was smaller quantities. \n",
    "customerquery = \"\"\" SELECT CustomerName, CustomerPhoneNumber FROM Orders\n",
    "Left Join Bookings on Bookings.OrderID = Orders.OrderID\n",
    "Left Join Customer on Customer.CustomerID = Bookings.CustomerID \n",
    "WHERE Orders.TotalCost > 25\"\"\"\n",
    "\n",
    "cursor.execute(customerquery)\n",
    "results = cursor.fetchall()\n",
    "for x in results:\n",
    "    print(x)"
   ]
  }
 ],
 "metadata": {
  "kernelspec": {
   "display_name": "Python 3 (ipykernel)",
   "language": "python",
   "name": "python3"
  },
  "language_info": {
   "codemirror_mode": {
    "name": "ipython",
    "version": 3
   },
   "file_extension": ".py",
   "mimetype": "text/x-python",
   "name": "python",
   "nbconvert_exporter": "python",
   "pygments_lexer": "ipython3",
   "version": "3.12.5"
  }
 },
 "nbformat": 4,
 "nbformat_minor": 5
}
